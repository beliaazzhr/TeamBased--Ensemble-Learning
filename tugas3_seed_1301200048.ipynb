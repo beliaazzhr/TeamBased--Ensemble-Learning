{
  "cells": [
    {
      "cell_type": "markdown",
      "metadata": {
        "id": "view-in-github",
        "colab_type": "text"
      },
      "source": [
        "<a href=\"https://colab.research.google.com/github/beliaazzhr/TeamBased--Ensemble-Learning/blob/main/tugas3_seed_1301200048.ipynb\" target=\"_parent\"><img src=\"https://colab.research.google.com/assets/colab-badge.svg\" alt=\"Open In Colab\"/></a>"
      ]
    },
    {
      "cell_type": "code",
      "execution_count": null,
      "metadata": {
        "id": "9B5lzQj2blAM",
        "colab": {
          "base_uri": "https://localhost:8080/"
        },
        "outputId": "ea38c2f1-1619-4b55-8309-21c5ced20325"
      },
      "outputs": [
        {
          "output_type": "stream",
          "name": "stdout",
          "text": [
            "Looking in indexes: https://pypi.org/simple, https://us-python.pkg.dev/colab-wheels/public/simple/\n",
            "Requirement already satisfied: pandas in /usr/local/lib/python3.8/dist-packages (1.3.5)\n",
            "Requirement already satisfied: pytz>=2017.3 in /usr/local/lib/python3.8/dist-packages (from pandas) (2022.6)\n",
            "Requirement already satisfied: python-dateutil>=2.7.3 in /usr/local/lib/python3.8/dist-packages (from pandas) (2.8.2)\n",
            "Requirement already satisfied: numpy>=1.17.3 in /usr/local/lib/python3.8/dist-packages (from pandas) (1.21.6)\n",
            "Requirement already satisfied: six>=1.5 in /usr/local/lib/python3.8/dist-packages (from python-dateutil>=2.7.3->pandas) (1.15.0)\n",
            "Looking in indexes: https://pypi.org/simple, https://us-python.pkg.dev/colab-wheels/public/simple/\n",
            "Requirement already satisfied: scikit-learn in /usr/local/lib/python3.8/dist-packages (1.0.2)\n",
            "Requirement already satisfied: scipy>=1.1.0 in /usr/local/lib/python3.8/dist-packages (from scikit-learn) (1.7.3)\n",
            "Requirement already satisfied: joblib>=0.11 in /usr/local/lib/python3.8/dist-packages (from scikit-learn) (1.2.0)\n",
            "Requirement already satisfied: threadpoolctl>=2.0.0 in /usr/local/lib/python3.8/dist-packages (from scikit-learn) (3.1.0)\n",
            "Requirement already satisfied: numpy>=1.14.6 in /usr/local/lib/python3.8/dist-packages (from scikit-learn) (1.21.6)\n"
          ]
        }
      ],
      "source": [
        "!pip install pandas\n",
        "!pip install scikit-learn"
      ]
    },
    {
      "cell_type": "markdown",
      "source": [
        "## Isi nama dan NIM seluruh anggota kelompok di sini\n",
        "1. Anyelir Belia Azzahra - 1301200048\n",
        "2. Fakhri Maulana Falah - 1301202117\n",
        "3. Gilang Satya Nugraha - 1301202319\n",
        "4. Mirai Tsuciya   - 1301203555\n"
      ],
      "metadata": {
        "id": "iymf7PXPldB8"
      }
    },
    {
      "cell_type": "code",
      "execution_count": null,
      "metadata": {
        "id": "YV4655IeblAP"
      },
      "outputs": [],
      "source": [
        "import numpy as np\n",
        "import pandas as pd\n",
        "from sklearn.model_selection import train_test_split\n",
        "from sklearn import tree\n"
      ]
    },
    {
      "cell_type": "markdown",
      "metadata": {
        "id": "oaA_2RNHblAQ"
      },
      "source": [
        "# Load Dataset\n",
        "Inisialisasi variable, masukan NIM di sini untuk random state.\n",
        "\n",
        "Gunakan NIM salah satu anggota kelompok.\n",
        "\n"
      ]
    },
    {
      "cell_type": "code",
      "execution_count": null,
      "metadata": {
        "id": "Nvxgsmv7blAS"
      },
      "outputs": [],
      "source": [
        "filepath = \"./seeds_dataset.csv\"\n",
        "\n",
        "# Isi nim anda di sini\n",
        "nim = 1301200048"
      ]
    },
    {
      "cell_type": "markdown",
      "metadata": {
        "id": "8XBhDOmoblAS"
      },
      "source": [
        "Load dataset, cek konten data\n",
        "\n",
        "Target kelas: **Category** "
      ]
    },
    {
      "cell_type": "code",
      "execution_count": null,
      "metadata": {
        "id": "u9rIb0TwblAT",
        "colab": {
          "base_uri": "https://localhost:8080/",
          "height": 427
        },
        "outputId": "806aadd3-0de6-47a5-8a18-0e17a95d8073"
      },
      "outputs": [
        {
          "output_type": "execute_result",
          "data": {
            "text/plain": [
              "      Area  Perimeter  Compactness  Kernel_len  Kernel_width  Assymetry  \\\n",
              "172  11.27      12.97       0.8419       5.088         2.763      4.309   \n",
              "163  12.55      13.57       0.8558       5.333         2.968      4.419   \n",
              "193  10.82      12.83       0.8256       5.180         2.630      4.853   \n",
              "179  12.21      13.47       0.8453       5.357         2.893      1.661   \n",
              "197  13.37      13.78       0.8849       5.320         3.128      4.670   \n",
              "155  11.19      13.05       0.8253       5.250         2.675      5.813   \n",
              "16   13.99      13.83       0.9183       5.119         3.383      5.234   \n",
              "44   15.11      14.54       0.8986       5.579         3.462      3.128   \n",
              "26   13.02      13.76       0.8641       5.395         3.026      3.373   \n",
              "157  12.13      13.73       0.8081       5.394         2.745      4.825   \n",
              "\n",
              "     Groove_len  Category  \n",
              "172       5.000         3  \n",
              "163       5.176         3  \n",
              "193       5.089         3  \n",
              "179       5.178         3  \n",
              "197       5.091         3  \n",
              "155       5.219         3  \n",
              "16        4.781         1  \n",
              "44        5.180         1  \n",
              "26        4.825         1  \n",
              "157       5.220         3  "
            ],
            "text/html": [
              "\n",
              "  <div id=\"df-e3ffea63-2a06-4f47-bad9-9c78e9460141\">\n",
              "    <div class=\"colab-df-container\">\n",
              "      <div>\n",
              "<style scoped>\n",
              "    .dataframe tbody tr th:only-of-type {\n",
              "        vertical-align: middle;\n",
              "    }\n",
              "\n",
              "    .dataframe tbody tr th {\n",
              "        vertical-align: top;\n",
              "    }\n",
              "\n",
              "    .dataframe thead th {\n",
              "        text-align: right;\n",
              "    }\n",
              "</style>\n",
              "<table border=\"1\" class=\"dataframe\">\n",
              "  <thead>\n",
              "    <tr style=\"text-align: right;\">\n",
              "      <th></th>\n",
              "      <th>Area</th>\n",
              "      <th>Perimeter</th>\n",
              "      <th>Compactness</th>\n",
              "      <th>Kernel_len</th>\n",
              "      <th>Kernel_width</th>\n",
              "      <th>Assymetry</th>\n",
              "      <th>Groove_len</th>\n",
              "      <th>Category</th>\n",
              "    </tr>\n",
              "  </thead>\n",
              "  <tbody>\n",
              "    <tr>\n",
              "      <th>172</th>\n",
              "      <td>11.27</td>\n",
              "      <td>12.97</td>\n",
              "      <td>0.8419</td>\n",
              "      <td>5.088</td>\n",
              "      <td>2.763</td>\n",
              "      <td>4.309</td>\n",
              "      <td>5.000</td>\n",
              "      <td>3</td>\n",
              "    </tr>\n",
              "    <tr>\n",
              "      <th>163</th>\n",
              "      <td>12.55</td>\n",
              "      <td>13.57</td>\n",
              "      <td>0.8558</td>\n",
              "      <td>5.333</td>\n",
              "      <td>2.968</td>\n",
              "      <td>4.419</td>\n",
              "      <td>5.176</td>\n",
              "      <td>3</td>\n",
              "    </tr>\n",
              "    <tr>\n",
              "      <th>193</th>\n",
              "      <td>10.82</td>\n",
              "      <td>12.83</td>\n",
              "      <td>0.8256</td>\n",
              "      <td>5.180</td>\n",
              "      <td>2.630</td>\n",
              "      <td>4.853</td>\n",
              "      <td>5.089</td>\n",
              "      <td>3</td>\n",
              "    </tr>\n",
              "    <tr>\n",
              "      <th>179</th>\n",
              "      <td>12.21</td>\n",
              "      <td>13.47</td>\n",
              "      <td>0.8453</td>\n",
              "      <td>5.357</td>\n",
              "      <td>2.893</td>\n",
              "      <td>1.661</td>\n",
              "      <td>5.178</td>\n",
              "      <td>3</td>\n",
              "    </tr>\n",
              "    <tr>\n",
              "      <th>197</th>\n",
              "      <td>13.37</td>\n",
              "      <td>13.78</td>\n",
              "      <td>0.8849</td>\n",
              "      <td>5.320</td>\n",
              "      <td>3.128</td>\n",
              "      <td>4.670</td>\n",
              "      <td>5.091</td>\n",
              "      <td>3</td>\n",
              "    </tr>\n",
              "    <tr>\n",
              "      <th>155</th>\n",
              "      <td>11.19</td>\n",
              "      <td>13.05</td>\n",
              "      <td>0.8253</td>\n",
              "      <td>5.250</td>\n",
              "      <td>2.675</td>\n",
              "      <td>5.813</td>\n",
              "      <td>5.219</td>\n",
              "      <td>3</td>\n",
              "    </tr>\n",
              "    <tr>\n",
              "      <th>16</th>\n",
              "      <td>13.99</td>\n",
              "      <td>13.83</td>\n",
              "      <td>0.9183</td>\n",
              "      <td>5.119</td>\n",
              "      <td>3.383</td>\n",
              "      <td>5.234</td>\n",
              "      <td>4.781</td>\n",
              "      <td>1</td>\n",
              "    </tr>\n",
              "    <tr>\n",
              "      <th>44</th>\n",
              "      <td>15.11</td>\n",
              "      <td>14.54</td>\n",
              "      <td>0.8986</td>\n",
              "      <td>5.579</td>\n",
              "      <td>3.462</td>\n",
              "      <td>3.128</td>\n",
              "      <td>5.180</td>\n",
              "      <td>1</td>\n",
              "    </tr>\n",
              "    <tr>\n",
              "      <th>26</th>\n",
              "      <td>13.02</td>\n",
              "      <td>13.76</td>\n",
              "      <td>0.8641</td>\n",
              "      <td>5.395</td>\n",
              "      <td>3.026</td>\n",
              "      <td>3.373</td>\n",
              "      <td>4.825</td>\n",
              "      <td>1</td>\n",
              "    </tr>\n",
              "    <tr>\n",
              "      <th>157</th>\n",
              "      <td>12.13</td>\n",
              "      <td>13.73</td>\n",
              "      <td>0.8081</td>\n",
              "      <td>5.394</td>\n",
              "      <td>2.745</td>\n",
              "      <td>4.825</td>\n",
              "      <td>5.220</td>\n",
              "      <td>3</td>\n",
              "    </tr>\n",
              "  </tbody>\n",
              "</table>\n",
              "</div>\n",
              "      <button class=\"colab-df-convert\" onclick=\"convertToInteractive('df-e3ffea63-2a06-4f47-bad9-9c78e9460141')\"\n",
              "              title=\"Convert this dataframe to an interactive table.\"\n",
              "              style=\"display:none;\">\n",
              "        \n",
              "  <svg xmlns=\"http://www.w3.org/2000/svg\" height=\"24px\"viewBox=\"0 0 24 24\"\n",
              "       width=\"24px\">\n",
              "    <path d=\"M0 0h24v24H0V0z\" fill=\"none\"/>\n",
              "    <path d=\"M18.56 5.44l.94 2.06.94-2.06 2.06-.94-2.06-.94-.94-2.06-.94 2.06-2.06.94zm-11 1L8.5 8.5l.94-2.06 2.06-.94-2.06-.94L8.5 2.5l-.94 2.06-2.06.94zm10 10l.94 2.06.94-2.06 2.06-.94-2.06-.94-.94-2.06-.94 2.06-2.06.94z\"/><path d=\"M17.41 7.96l-1.37-1.37c-.4-.4-.92-.59-1.43-.59-.52 0-1.04.2-1.43.59L10.3 9.45l-7.72 7.72c-.78.78-.78 2.05 0 2.83L4 21.41c.39.39.9.59 1.41.59.51 0 1.02-.2 1.41-.59l7.78-7.78 2.81-2.81c.8-.78.8-2.07 0-2.86zM5.41 20L4 18.59l7.72-7.72 1.47 1.35L5.41 20z\"/>\n",
              "  </svg>\n",
              "      </button>\n",
              "      \n",
              "  <style>\n",
              "    .colab-df-container {\n",
              "      display:flex;\n",
              "      flex-wrap:wrap;\n",
              "      gap: 12px;\n",
              "    }\n",
              "\n",
              "    .colab-df-convert {\n",
              "      background-color: #E8F0FE;\n",
              "      border: none;\n",
              "      border-radius: 50%;\n",
              "      cursor: pointer;\n",
              "      display: none;\n",
              "      fill: #1967D2;\n",
              "      height: 32px;\n",
              "      padding: 0 0 0 0;\n",
              "      width: 32px;\n",
              "    }\n",
              "\n",
              "    .colab-df-convert:hover {\n",
              "      background-color: #E2EBFA;\n",
              "      box-shadow: 0px 1px 2px rgba(60, 64, 67, 0.3), 0px 1px 3px 1px rgba(60, 64, 67, 0.15);\n",
              "      fill: #174EA6;\n",
              "    }\n",
              "\n",
              "    [theme=dark] .colab-df-convert {\n",
              "      background-color: #3B4455;\n",
              "      fill: #D2E3FC;\n",
              "    }\n",
              "\n",
              "    [theme=dark] .colab-df-convert:hover {\n",
              "      background-color: #434B5C;\n",
              "      box-shadow: 0px 1px 3px 1px rgba(0, 0, 0, 0.15);\n",
              "      filter: drop-shadow(0px 1px 2px rgba(0, 0, 0, 0.3));\n",
              "      fill: #FFFFFF;\n",
              "    }\n",
              "  </style>\n",
              "\n",
              "      <script>\n",
              "        const buttonEl =\n",
              "          document.querySelector('#df-e3ffea63-2a06-4f47-bad9-9c78e9460141 button.colab-df-convert');\n",
              "        buttonEl.style.display =\n",
              "          google.colab.kernel.accessAllowed ? 'block' : 'none';\n",
              "\n",
              "        async function convertToInteractive(key) {\n",
              "          const element = document.querySelector('#df-e3ffea63-2a06-4f47-bad9-9c78e9460141');\n",
              "          const dataTable =\n",
              "            await google.colab.kernel.invokeFunction('convertToInteractive',\n",
              "                                                     [key], {});\n",
              "          if (!dataTable) return;\n",
              "\n",
              "          const docLinkHtml = 'Like what you see? Visit the ' +\n",
              "            '<a target=\"_blank\" href=https://colab.research.google.com/notebooks/data_table.ipynb>data table notebook</a>'\n",
              "            + ' to learn more about interactive tables.';\n",
              "          element.innerHTML = '';\n",
              "          dataTable['output_type'] = 'display_data';\n",
              "          await google.colab.output.renderOutput(dataTable, element);\n",
              "          const docLink = document.createElement('div');\n",
              "          docLink.innerHTML = docLinkHtml;\n",
              "          element.appendChild(docLink);\n",
              "        }\n",
              "      </script>\n",
              "    </div>\n",
              "  </div>\n",
              "  "
            ]
          },
          "metadata": {},
          "execution_count": 10
        }
      ],
      "source": [
        "df = pd.read_csv(filepath, sep=\"\\t\")\n",
        "df.sample(10, random_state=nim)"
      ]
    },
    {
      "cell_type": "markdown",
      "metadata": {
        "id": "MlBa2DutblAT"
      },
      "source": [
        "Training/test split **60/40**"
      ]
    },
    {
      "cell_type": "code",
      "execution_count": null,
      "metadata": {
        "id": "UBzFH9gJblAU",
        "colab": {
          "base_uri": "https://localhost:8080/"
        },
        "outputId": "cdaa76ed-8a3a-46ae-f7d7-66a3097a4e48"
      },
      "outputs": [
        {
          "output_type": "execute_result",
          "data": {
            "text/plain": [
              "(126, 84)"
            ]
          },
          "metadata": {},
          "execution_count": 11
        }
      ],
      "source": [
        "# X: semua kolom, Y: kolom terakhir (category)\n",
        "x = df.iloc[:, :-1]\n",
        "y = df.iloc[:, -1]\n",
        "x_train, x_test, y_train, y_test = train_test_split(x, y, train_size=0.6, random_state=nim)\n",
        "\n",
        "# We perform bootstrap on the train data\n",
        "# Keep test data for final accuracy testing\n",
        "len(x_train), len(x_test)"
      ]
    },
    {
      "cell_type": "markdown",
      "metadata": {
        "id": "nx075_ILblAU"
      },
      "source": [
        "# Random Forest\n",
        "Build a Random Forest, consisting of 20 Decision Tree classifer, with the following steps:\n",
        "\n",
        "1. Prepare Bootstrap data (choose randomly from the *training data*, use sampling with replacement)\n",
        "2. Choose 2-4 random features/atributes for each tree\n",
        "3. Build Decision Tree classifier using step (1) and (2)\n",
        "4. Calculate OOB score within the tree only\n",
        "\n",
        "**NOTE**\n",
        "This whole exercise has been simplified.\n",
        "- Tree can be created using a library, therefore you may not be able control the feature selection on node level\n",
        "- Random features are only selected in the beginning of each tree.\n",
        "- OOB score is only calculated within its own tree instead.\n",
        "- Typically Random Forest don't use train/test split and can be validated using OOB error. We simplify this to make it easier to test.\n",
        "- You are not allowed to use a Random Forest or Bagging library.\n"
      ]
    },
    {
      "cell_type": "code",
      "execution_count": null,
      "metadata": {
        "id": "3t1Tx1O5blAV",
        "colab": {
          "base_uri": "https://localhost:8080/"
        },
        "outputId": "e127ef15-cdc8-4f74-afcc-6a4451796460"
      },
      "outputs": [
        {
          "output_type": "stream",
          "name": "stdout",
          "text": [
            "['Area' 'Kernel_len' 'Compactness']\n",
            "Tree 0, 42 data, oob score: 0.7619047619047619\n",
            "['Assymetry' 'Compactness' 'Area']\n",
            "Tree 1, 36 data, oob score: 0.8611111111111112\n",
            "['Perimeter' 'Area']\n",
            "Tree 2, 50 data, oob score: 0.9\n",
            "['Perimeter' 'Groove_len']\n",
            "Tree 3, 46 data, oob score: 0.9565217391304348\n",
            "['Kernel_width' 'Perimeter']\n",
            "Tree 4, 45 data, oob score: 0.8444444444444444\n",
            "['Kernel_len' 'Perimeter' 'Assymetry']\n",
            "Tree 5, 49 data, oob score: 0.8163265306122449\n",
            "['Kernel_len' 'Kernel_len' 'Assymetry']\n",
            "Tree 6, 45 data, oob score: 0.8\n",
            "['Kernel_len' 'Groove_len']\n",
            "Tree 7, 49 data, oob score: 0.7959183673469388\n",
            "['Kernel_len' 'Compactness' 'Perimeter']\n",
            "Tree 8, 46 data, oob score: 0.8043478260869565\n",
            "['Area' 'Kernel_width' 'Assymetry']\n",
            "Tree 9, 44 data, oob score: 0.8636363636363636\n",
            "['Area' 'Compactness']\n",
            "Tree 10, 38 data, oob score: 0.8421052631578947\n",
            "['Kernel_len' 'Compactness']\n",
            "Tree 11, 41 data, oob score: 0.8780487804878049\n",
            "['Assymetry' 'Compactness' 'Area']\n",
            "Tree 12, 46 data, oob score: 0.782608695652174\n",
            "['Perimeter' 'Perimeter' 'Kernel_width']\n",
            "Tree 13, 50 data, oob score: 0.84\n",
            "['Perimeter' 'Area']\n",
            "Tree 14, 50 data, oob score: 0.8\n",
            "['Area' 'Assymetry' 'Kernel_len']\n",
            "Tree 15, 51 data, oob score: 0.803921568627451\n",
            "['Kernel_width' 'Kernel_width']\n",
            "Tree 16, 34 data, oob score: 0.7352941176470589\n",
            "['Groove_len' 'Assymetry']\n",
            "Tree 17, 46 data, oob score: 0.7608695652173914\n",
            "['Kernel_len' 'Area']\n",
            "Tree 18, 52 data, oob score: 0.7884615384615384\n",
            "['Compactness' 'Assymetry']\n",
            "Tree 19, 46 data, oob score: 0.5\n"
          ]
        }
      ],
      "source": [
        "np.random.seed(nim)\n",
        "n_tree = 20\n",
        "\n",
        "forest = []\n",
        "bootstrap_columns = []\n",
        "for i in range(n_tree):\n",
        "    # 1. Bootstrapping\n",
        "    # select random rows\n",
        "    rows = np.random.choice(x_train.index, size=len(x_train), replace=True)\n",
        "    x_bootstrap = x_train.loc[rows]\n",
        "    y_bootstrap = y_train.loc[rows]\n",
        "\n",
        "    # Out of Bag data\n",
        "    non_selected_rows = np.setdiff1d(x_train.index, rows)\n",
        "    x_oob = x_train.loc[non_selected_rows]\n",
        "    y_oob = y_train.loc[non_selected_rows]\n",
        "\n",
        "    # 2. Select random features (make sure to keep track the selected columns)\n",
        "    # Check for any repeated combinations\n",
        "    feature_taken = np.random.randint(2, 4)\n",
        "    cols = np.random.choice(x_bootstrap.columns, size=feature_taken, replace=True)\n",
        "    bootstrap_columns.append(cols)\n",
        "\n",
        "    # filter based on the selected columns\n",
        "    x_bootstrap = x_bootstrap.loc[:, cols]\n",
        "\n",
        "    # 3. Build decision tree\n",
        "    # Let it grow, no pruning\n",
        "    tree_model = tree.DecisionTreeClassifier()\n",
        "    tree_model.fit(x_bootstrap, y_bootstrap)\n",
        "\n",
        "    # Add it to the forest\n",
        "    forest.append(tree_model)\n",
        "\n",
        "    # 4. Calculate oob score only within its own tree\n",
        "    # ....\n",
        "    oob_predict = tree_model.predict(x_oob.loc[:, cols])\n",
        "    print(cols)\n",
        "    oob_score   = tree_model.score(x_oob.loc[:, cols], y_oob)\n",
        "    print(f\"Tree {i}, {len(x_oob)} data, oob score: {oob_score}\")\n",
        "\n"
      ]
    },
    {
      "cell_type": "markdown",
      "metadata": {
        "id": "fIhHXfayblAV"
      },
      "source": [
        "# Prediction and Voting\n",
        "Run prediction on x_test data for each tree\n",
        "\n",
        "Also calculate accuracy per tree here"
      ]
    },
    {
      "cell_type": "code",
      "execution_count": null,
      "metadata": {
        "id": "-Yb0FcDjblAW",
        "colab": {
          "base_uri": "https://localhost:8080/"
        },
        "outputId": "60ce6fdb-d22b-4ccd-e53b-80c51764df8d"
      },
      "outputs": [
        {
          "output_type": "stream",
          "name": "stdout",
          "text": [
            "0.7380952380952381\n",
            "0.75\n",
            "0.7857142857142857\n",
            "0.8928571428571429\n",
            "0.8095238095238095\n",
            "0.7857142857142857\n",
            "0.7380952380952381\n",
            "0.7857142857142857\n",
            "0.7738095238095238\n",
            "0.8690476190476191\n",
            "0.7738095238095238\n",
            "0.75\n",
            "0.7976190476190477\n",
            "0.7738095238095238\n",
            "0.7976190476190477\n",
            "0.8214285714285714\n",
            "0.75\n",
            "0.7976190476190477\n",
            "0.8333333333333334\n",
            "0.5595238095238095\n"
          ]
        }
      ],
      "source": [
        "all_preds = []\n",
        "for i, tree_model in enumerate(forest):\n",
        "    # Each tree has different column requirements\n",
        "    # Make sure you use the correct columns for each tree\n",
        "    x_test_filtered = x_test.loc[:, bootstrap_columns[i]]\n",
        "\n",
        "    predictions = tree_model.predict(x_test_filtered)\n",
        "\n",
        "    # Might as well calculate accuracy per tree here...\n",
        "\n",
        "    acc = tree_model.score(x_test_filtered, y_test)\n",
        "    print(acc)\n",
        "\n",
        "    # add it to all_preds for voting later\n",
        "    all_preds.append(predictions)\n",
        "\n",
        "all_preds = np.array(all_preds)"
      ]
    },
    {
      "cell_type": "markdown",
      "metadata": {
        "id": "VQyu3kHKblAW"
      },
      "source": [
        "### Perform voting on the predictions from the Random Forest"
      ]
    },
    {
      "cell_type": "code",
      "execution_count": null,
      "metadata": {
        "id": "lpabMvFYblAW",
        "colab": {
          "base_uri": "https://localhost:8080/"
        },
        "outputId": "42616962-71b7-4859-a0d3-2c718ad5a8ab"
      },
      "outputs": [
        {
          "output_type": "stream",
          "name": "stdout",
          "text": [
            "[3 3 3 3 1 3 1 1 1 3 3 1 2 3 2 2 2 1 3 2 1 1 3 3 1 1 2 1 1 3 2 3 2 3 1 1 1\n",
            " 2 1 2 3 1 3 3 2 2 1 2 3 2 2 1 3 2 1 1 2 2 1 2 2 1 1 3 2 3 2 1 1 1 2 1 1 2\n",
            " 1 3 1 1 2 1 2 3 3 2]\n",
            "85.71428571428571 %\n"
          ]
        }
      ],
      "source": [
        "# Insert voting code here\n",
        "voted_predictions = np.array([np.bincount(pred).argmax() for pred in all_preds.T])\n",
        "print(voted_predictions)\n",
        "\n",
        "# Calculate accuracy of Test data on the Forest\n",
        "acc = np.sum(voted_predictions == y_test) / len(y_test) *100\n",
        "print(acc, \"%\")\n"
      ]
    },
    {
      "cell_type": "markdown",
      "metadata": {
        "id": "RiEMHROWblAX"
      },
      "source": [
        "After you're done with all this, please check the excel file and put the answers for every column there."
      ]
    }
  ],
  "metadata": {
    "kernelspec": {
      "display_name": "Python 3.10.8 ('tugas3')",
      "language": "python",
      "name": "python3"
    },
    "language_info": {
      "codemirror_mode": {
        "name": "ipython",
        "version": 3
      },
      "file_extension": ".py",
      "mimetype": "text/x-python",
      "name": "python",
      "nbconvert_exporter": "python",
      "pygments_lexer": "ipython3",
      "version": "3.10.8"
    },
    "orig_nbformat": 4,
    "vscode": {
      "interpreter": {
        "hash": "486ee4d26de12a9ebc4c044e4309648e10037d9316726c9d112e2ad4a1fad8b4"
      }
    },
    "colab": {
      "provenance": [],
      "include_colab_link": true
    }
  },
  "nbformat": 4,
  "nbformat_minor": 0
}